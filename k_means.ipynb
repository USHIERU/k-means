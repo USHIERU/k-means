{
  "nbformat": 4,
  "nbformat_minor": 0,
  "metadata": {
    "colab": {
      "name": "k-means.ipynb",
      "provenance": [],
      "authorship_tag": "ABX9TyML+bnIdCEoDH5QmQmc4Anr",
      "include_colab_link": true
    },
    "kernelspec": {
      "name": "python3",
      "display_name": "Python 3"
    }
  },
  "cells": [
    {
      "cell_type": "markdown",
      "metadata": {
        "id": "view-in-github",
        "colab_type": "text"
      },
      "source": [
        "<a href=\"https://colab.research.google.com/github/USHIERU/k-means/blob/main/k_means.ipynb\" target=\"_parent\"><img src=\"https://colab.research.google.com/assets/colab-badge.svg\" alt=\"Open In Colab\"/></a>"
      ]
    },
    {
      "cell_type": "markdown",
      "metadata": {
        "id": "lYeIR-rLg9HS"
      },
      "source": [
        "## Class Nodo"
      ]
    },
    {
      "cell_type": "code",
      "metadata": {
        "id": "tV9B289Zg2ae"
      },
      "source": [
        "class Nodo:\r\n",
        "    def __init__(self, x: int, y: int):\r\n",
        "        self.x = x\r\n",
        "        self.y = y\r\n",
        "\r\n",
        "    def __str__(self):\r\n",
        "        return 'class Nodo: X = ' + str(self.x) + ', Y = ' + str(self.y)\r\n",
        "\r\n",
        "    @staticmethod\r\n",
        "    def distance(nodo1, nodo2) -> float:\r\n",
        "        return ((nodo2.x-nodo1.x)**2 + (nodo2.y-nodo1.y)**2)**0.5"
      ],
      "execution_count": 21,
      "outputs": []
    },
    {
      "cell_type": "markdown",
      "metadata": {
        "id": "M9Mc9LRJg5rr"
      },
      "source": [
        "## Class Centroide"
      ]
    },
    {
      "cell_type": "code",
      "metadata": {
        "id": "7LF1Wv64hNxi"
      },
      "source": [
        "class Centroide(Nodo):\r\n",
        "    def __init__(self, x: int, y: int, name=''):\r\n",
        "        super().__init__(x, y)\r\n",
        "        self.name = name\r\n",
        "        self.nodos = []\r\n",
        "\r\n",
        "    def add_dato(self, dato: Nodo):\r\n",
        "        self.nodos.append(dato)\r\n",
        "\r\n",
        "    def get_datos(self):\r\n",
        "        return self.nodos\r\n",
        "\r\n",
        "    def clean_data(self):\r\n",
        "        self.nodos = []\r\n",
        "\r\n",
        "    def move(self, new_x, new_y):\r\n",
        "        self.x = new_x\r\n",
        "        self.y = new_y\r\n",
        "\r\n",
        "    def __str__(self):\r\n",
        "        return 'class Centroide: X = ' + str(self.x) + ', Y = ' + str(self.y) + ' name = ' + self.name"
      ],
      "execution_count": 22,
      "outputs": []
    },
    {
      "cell_type": "markdown",
      "metadata": {
        "id": "H8QG7ysihP-J"
      },
      "source": [
        "## Helper Functions"
      ]
    },
    {
      "cell_type": "code",
      "metadata": {
        "id": "GvzJz1SghSZB"
      },
      "source": [
        "def shorter_distance(arrayDistances) -> float:\r\n",
        "    index = 0\r\n",
        "    dist = arrayDistances[0]['distance']\r\n",
        "\r\n",
        "    for dictionary in arrayDistances:\r\n",
        "        if dictionary['distance'] < dist:\r\n",
        "            dist = dictionary['distance']\r\n",
        "            index = dictionary['index']\r\n",
        "\r\n",
        "    return index, dist\r\n",
        "\r\n",
        "\r\n",
        "def mean_x(datos: [Nodo]) -> float:\r\n",
        "    length = len(datos)\r\n",
        "    if length == 0:\r\n",
        "      return 0\r\n",
        "\r\n",
        "    suma = 0\r\n",
        "\r\n",
        "    for nodo in datos:\r\n",
        "        suma += nodo.x\r\n",
        "\r\n",
        "    return suma / length\r\n",
        "\r\n",
        "\r\n",
        "def mean_y(datos: [Nodo]) -> float:\r\n",
        "  length = len(datos)\r\n",
        "  if length == 0:\r\n",
        "    return 0\r\n",
        "\r\n",
        "  suma = 0\r\n",
        "  for nodo in datos:\r\n",
        "    suma += nodo.y\r\n",
        "\r\n",
        "  return suma / length\r\n",
        "\r\n",
        "\r\n",
        "def generar_color():\r\n",
        "    values = ['0', '1', '2', '3', '4', '5', '6',\r\n",
        "              '7', '8', '9', 'a', 'b', 'c', 'd', 'e', 'f']\r\n",
        "    n = '#'\r\n",
        "    for _ in range(6):\r\n",
        "        n = n + random.choice(values)\r\n",
        "    return n"
      ],
      "execution_count": 23,
      "outputs": []
    },
    {
      "cell_type": "markdown",
      "metadata": {
        "id": "vVtRUhD8hiJw"
      },
      "source": [
        "## Main"
      ]
    },
    {
      "cell_type": "code",
      "metadata": {
        "colab": {
          "base_uri": "https://localhost:8080/",
          "height": 265
        },
        "id": "3SJj-T94hjZw",
        "outputId": "cd2febe4-691a-47cf-c7fb-c9a350aba31c"
      },
      "source": [
        "import matplotlib.pyplot as plt\r\n",
        "import random\r\n",
        "\r\n",
        "NODOS_TO_GENERATE = 10000\r\n",
        "CENTROIDES_TO_GENERATE = 10\r\n",
        "TOLERANCE = 0.01\r\n",
        "nodos = []\r\n",
        "centroides = []\r\n",
        "error = 1\r\n",
        "\r\n",
        "'''\r\n",
        "    Generate random data\r\n",
        "'''\r\n",
        "for _ in range(NODOS_TO_GENERATE):\r\n",
        "    x = random.randint(0, 100)\r\n",
        "    y = random.randint(0, 100)\r\n",
        "    nodos.append(Nodo(x, y))\r\n",
        "\r\n",
        "for count in range(CENTROIDES_TO_GENERATE):\r\n",
        "    x = random.randint(0, 100)\r\n",
        "    y = random.randint(0, 100)\r\n",
        "    centroides.append(Centroide(x, y, 'Centroide: ' + str(count + 1)))\r\n",
        "\r\n",
        "'''\r\n",
        "    Error calculation\r\n",
        "'''\r\n",
        "while error > TOLERANCE:\r\n",
        "    [centroide.clean_data() for centroide in centroides]\r\n",
        "\r\n",
        "    for nodo in nodos:\r\n",
        "        distancias = []\r\n",
        "\r\n",
        "        for index, centro in enumerate(centroides):\r\n",
        "            datoAux = {\r\n",
        "                'index': index,\r\n",
        "                'distance': Nodo.distance(nodo, centro)\r\n",
        "            }\r\n",
        "\r\n",
        "            distancias.append(datoAux)\r\n",
        "\r\n",
        "        index, _ = shorter_distance(distancias)\r\n",
        "\r\n",
        "        centroides[index].add_dato(nodo)\r\n",
        "\r\n",
        "    errores = []\r\n",
        "\r\n",
        "    for centroide in centroides:\r\n",
        "        old_x = centroide.x\r\n",
        "        old_y = centroide.y\r\n",
        "\r\n",
        "        centroide_datos = centroide.get_datos()\r\n",
        "        centroide.move(mean_x(centroide_datos), mean_y(centroide_datos))\r\n",
        "\r\n",
        "        new_x = centroide.x\r\n",
        "        new_y = centroide.y\r\n",
        "\r\n",
        "        errores.append(abs(old_x - new_x))\r\n",
        "\r\n",
        "    error = max(errores)\r\n",
        "\r\n",
        "'''\r\n",
        "    Graph\r\n",
        "'''\r\n",
        "for centroide in centroides:\r\n",
        "    array_x = []\r\n",
        "    array_y = []\r\n",
        "\r\n",
        "    for nodo in centroide.get_datos():\r\n",
        "        array_x.append(nodo.x)\r\n",
        "        array_y.append(nodo.y)\r\n",
        "\r\n",
        "    plt.scatter(centroide.x, centroide.y, c=[generar_color()], marker=\"*\")\r\n",
        "    plt.text(centroide.x + .03, centroide.y + .03,\r\n",
        "              centroide.name, fontsize=9)\r\n",
        "\r\n",
        "    plt.scatter(array_x, array_y, c=generar_color())\r\n",
        "\r\n",
        "plt.show()"
      ],
      "execution_count": 24,
      "outputs": [
        {
          "output_type": "display_data",
          "data": {
            "image/png": "[encoded data removed]",
            "text/plain": [
              "<Figure size 432x288 with 1 Axes>"
            ]
          },
          "metadata": {
            "tags": [],
            "needs_background": "light"
          }
        }
      ]
    }
  ]
}